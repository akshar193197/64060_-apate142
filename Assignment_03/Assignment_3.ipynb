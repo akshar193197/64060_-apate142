{
  "nbformat": 4,
  "nbformat_minor": 0,
  "metadata": {
    "colab": {
      "provenance": []
    },
    "kernelspec": {
      "name": "python3",
      "display_name": "Python 3"
    },
    "language_info": {
      "name": "python"
    }
  },
  "cells": [
    {
      "cell_type": "markdown",
      "source": [
        "# Assignment 3 - Navie Bayes UniversalBank\n",
        "- Course: 64060 - Machine Learning and Data Analytics\n",
        "- Datasource - UniversalBank.csv\n",
        "\n"
      ],
      "metadata": {
        "id": "qU0xae4o3-oW"
      }
    },
    {
      "cell_type": "code",
      "execution_count": 49,
      "metadata": {
        "id": "57WbZvlH2KNh"
      },
      "outputs": [],
      "source": [
        "# Imports\n",
        "import pandas as pd\n",
        "import numpy as np\n",
        "from sklearn.model_selection import train_test_split\n",
        "from sklearn.naive_bayes import CategoricalNB"
      ]
    },
    {
      "cell_type": "code",
      "source": [
        "from google.colab import files\n",
        "\n",
        "# Upload the CSV file\n",
        "print(\"Please upload your UniversalBank.csv file:\")\n",
        "uploaded = files.upload()\n",
        "\n",
        "# Load the data\n",
        "df = pd.read_csv('UniversalBank.csv')\n",
        "print(\"Data loaded successfully!\")\n",
        "print(f\"Dataset shape: {df.shape}\")"
      ],
      "metadata": {
        "colab": {
          "base_uri": "https://localhost:8080/",
          "height": 128
        },
        "id": "PDOgF5rx4l3_",
        "outputId": "ba53a973-4698-42b8-a531-b4cc230aac9a"
      },
      "execution_count": 50,
      "outputs": [
        {
          "output_type": "stream",
          "name": "stdout",
          "text": [
            "Please upload your UniversalBank.csv file:\n"
          ]
        },
        {
          "output_type": "display_data",
          "data": {
            "text/plain": [
              "<IPython.core.display.HTML object>"
            ],
            "text/html": [
              "\n",
              "     <input type=\"file\" id=\"files-7241dac4-b409-4ddb-a681-db4a2d2c32df\" name=\"files[]\" multiple disabled\n",
              "        style=\"border:none\" />\n",
              "     <output id=\"result-7241dac4-b409-4ddb-a681-db4a2d2c32df\">\n",
              "      Upload widget is only available when the cell has been executed in the\n",
              "      current browser session. Please rerun this cell to enable.\n",
              "      </output>\n",
              "      <script>// Copyright 2017 Google LLC\n",
              "//\n",
              "// Licensed under the Apache License, Version 2.0 (the \"License\");\n",
              "// you may not use this file except in compliance with the License.\n",
              "// You may obtain a copy of the License at\n",
              "//\n",
              "//      http://www.apache.org/licenses/LICENSE-2.0\n",
              "//\n",
              "// Unless required by applicable law or agreed to in writing, software\n",
              "// distributed under the License is distributed on an \"AS IS\" BASIS,\n",
              "// WITHOUT WARRANTIES OR CONDITIONS OF ANY KIND, either express or implied.\n",
              "// See the License for the specific language governing permissions and\n",
              "// limitations under the License.\n",
              "\n",
              "/**\n",
              " * @fileoverview Helpers for google.colab Python module.\n",
              " */\n",
              "(function(scope) {\n",
              "function span(text, styleAttributes = {}) {\n",
              "  const element = document.createElement('span');\n",
              "  element.textContent = text;\n",
              "  for (const key of Object.keys(styleAttributes)) {\n",
              "    element.style[key] = styleAttributes[key];\n",
              "  }\n",
              "  return element;\n",
              "}\n",
              "\n",
              "// Max number of bytes which will be uploaded at a time.\n",
              "const MAX_PAYLOAD_SIZE = 100 * 1024;\n",
              "\n",
              "function _uploadFiles(inputId, outputId) {\n",
              "  const steps = uploadFilesStep(inputId, outputId);\n",
              "  const outputElement = document.getElementById(outputId);\n",
              "  // Cache steps on the outputElement to make it available for the next call\n",
              "  // to uploadFilesContinue from Python.\n",
              "  outputElement.steps = steps;\n",
              "\n",
              "  return _uploadFilesContinue(outputId);\n",
              "}\n",
              "\n",
              "// This is roughly an async generator (not supported in the browser yet),\n",
              "// where there are multiple asynchronous steps and the Python side is going\n",
              "// to poll for completion of each step.\n",
              "// This uses a Promise to block the python side on completion of each step,\n",
              "// then passes the result of the previous step as the input to the next step.\n",
              "function _uploadFilesContinue(outputId) {\n",
              "  const outputElement = document.getElementById(outputId);\n",
              "  const steps = outputElement.steps;\n",
              "\n",
              "  const next = steps.next(outputElement.lastPromiseValue);\n",
              "  return Promise.resolve(next.value.promise).then((value) => {\n",
              "    // Cache the last promise value to make it available to the next\n",
              "    // step of the generator.\n",
              "    outputElement.lastPromiseValue = value;\n",
              "    return next.value.response;\n",
              "  });\n",
              "}\n",
              "\n",
              "/**\n",
              " * Generator function which is called between each async step of the upload\n",
              " * process.\n",
              " * @param {string} inputId Element ID of the input file picker element.\n",
              " * @param {string} outputId Element ID of the output display.\n",
              " * @return {!Iterable<!Object>} Iterable of next steps.\n",
              " */\n",
              "function* uploadFilesStep(inputId, outputId) {\n",
              "  const inputElement = document.getElementById(inputId);\n",
              "  inputElement.disabled = false;\n",
              "\n",
              "  const outputElement = document.getElementById(outputId);\n",
              "  outputElement.innerHTML = '';\n",
              "\n",
              "  const pickedPromise = new Promise((resolve) => {\n",
              "    inputElement.addEventListener('change', (e) => {\n",
              "      resolve(e.target.files);\n",
              "    });\n",
              "  });\n",
              "\n",
              "  const cancel = document.createElement('button');\n",
              "  inputElement.parentElement.appendChild(cancel);\n",
              "  cancel.textContent = 'Cancel upload';\n",
              "  const cancelPromise = new Promise((resolve) => {\n",
              "    cancel.onclick = () => {\n",
              "      resolve(null);\n",
              "    };\n",
              "  });\n",
              "\n",
              "  // Wait for the user to pick the files.\n",
              "  const files = yield {\n",
              "    promise: Promise.race([pickedPromise, cancelPromise]),\n",
              "    response: {\n",
              "      action: 'starting',\n",
              "    }\n",
              "  };\n",
              "\n",
              "  cancel.remove();\n",
              "\n",
              "  // Disable the input element since further picks are not allowed.\n",
              "  inputElement.disabled = true;\n",
              "\n",
              "  if (!files) {\n",
              "    return {\n",
              "      response: {\n",
              "        action: 'complete',\n",
              "      }\n",
              "    };\n",
              "  }\n",
              "\n",
              "  for (const file of files) {\n",
              "    const li = document.createElement('li');\n",
              "    li.append(span(file.name, {fontWeight: 'bold'}));\n",
              "    li.append(span(\n",
              "        `(${file.type || 'n/a'}) - ${file.size} bytes, ` +\n",
              "        `last modified: ${\n",
              "            file.lastModifiedDate ? file.lastModifiedDate.toLocaleDateString() :\n",
              "                                    'n/a'} - `));\n",
              "    const percent = span('0% done');\n",
              "    li.appendChild(percent);\n",
              "\n",
              "    outputElement.appendChild(li);\n",
              "\n",
              "    const fileDataPromise = new Promise((resolve) => {\n",
              "      const reader = new FileReader();\n",
              "      reader.onload = (e) => {\n",
              "        resolve(e.target.result);\n",
              "      };\n",
              "      reader.readAsArrayBuffer(file);\n",
              "    });\n",
              "    // Wait for the data to be ready.\n",
              "    let fileData = yield {\n",
              "      promise: fileDataPromise,\n",
              "      response: {\n",
              "        action: 'continue',\n",
              "      }\n",
              "    };\n",
              "\n",
              "    // Use a chunked sending to avoid message size limits. See b/62115660.\n",
              "    let position = 0;\n",
              "    do {\n",
              "      const length = Math.min(fileData.byteLength - position, MAX_PAYLOAD_SIZE);\n",
              "      const chunk = new Uint8Array(fileData, position, length);\n",
              "      position += length;\n",
              "\n",
              "      const base64 = btoa(String.fromCharCode.apply(null, chunk));\n",
              "      yield {\n",
              "        response: {\n",
              "          action: 'append',\n",
              "          file: file.name,\n",
              "          data: base64,\n",
              "        },\n",
              "      };\n",
              "\n",
              "      let percentDone = fileData.byteLength === 0 ?\n",
              "          100 :\n",
              "          Math.round((position / fileData.byteLength) * 100);\n",
              "      percent.textContent = `${percentDone}% done`;\n",
              "\n",
              "    } while (position < fileData.byteLength);\n",
              "  }\n",
              "\n",
              "  // All done.\n",
              "  yield {\n",
              "    response: {\n",
              "      action: 'complete',\n",
              "    }\n",
              "  };\n",
              "}\n",
              "\n",
              "scope.google = scope.google || {};\n",
              "scope.google.colab = scope.google.colab || {};\n",
              "scope.google.colab._files = {\n",
              "  _uploadFiles,\n",
              "  _uploadFilesContinue,\n",
              "};\n",
              "})(self);\n",
              "</script> "
            ]
          },
          "metadata": {}
        },
        {
          "output_type": "stream",
          "name": "stdout",
          "text": [
            "Saving UniversalBank.csv to UniversalBank (1).csv\n",
            "Data loaded successfully!\n",
            "Dataset shape: (5000, 14)\n"
          ]
        }
      ]
    },
    {
      "cell_type": "code",
      "source": [
        "# filtered dataframe\n",
        "df_filtered = df[['Online', 'CreditCard', 'Personal Loan']]\n",
        "df_filtered.rename(columns={'CreditCard': 'CC', 'Personal Loan': 'Loan'}, inplace=True)\n",
        "# Display the first few rows\n",
        "display(df_filtered.head())"
      ],
      "metadata": {
        "colab": {
          "base_uri": "https://localhost:8080/",
          "height": 316
        },
        "id": "OMk20Jhz4o9f",
        "outputId": "fbd73830-bca1-4163-9c19-c8721aba3b67"
      },
      "execution_count": 51,
      "outputs": [
        {
          "output_type": "stream",
          "name": "stderr",
          "text": [
            "/tmp/ipython-input-3519312235.py:3: SettingWithCopyWarning: \n",
            "A value is trying to be set on a copy of a slice from a DataFrame\n",
            "\n",
            "See the caveats in the documentation: https://pandas.pydata.org/pandas-docs/stable/user_guide/indexing.html#returning-a-view-versus-a-copy\n",
            "  df_filtered.rename(columns={'CreditCard': 'CC', 'Personal Loan': 'Loan'}, inplace=True)\n"
          ]
        },
        {
          "output_type": "display_data",
          "data": {
            "text/plain": [
              "   Online  CC  Loan\n",
              "0       0   0     0\n",
              "1       0   0     0\n",
              "2       0   0     0\n",
              "3       0   0     0\n",
              "4       0   1     0"
            ],
            "text/html": [
              "\n",
              "  <div id=\"df-6640735d-7221-453b-9561-c7da67f6e6e4\" class=\"colab-df-container\">\n",
              "    <div>\n",
              "<style scoped>\n",
              "    .dataframe tbody tr th:only-of-type {\n",
              "        vertical-align: middle;\n",
              "    }\n",
              "\n",
              "    .dataframe tbody tr th {\n",
              "        vertical-align: top;\n",
              "    }\n",
              "\n",
              "    .dataframe thead th {\n",
              "        text-align: right;\n",
              "    }\n",
              "</style>\n",
              "<table border=\"1\" class=\"dataframe\">\n",
              "  <thead>\n",
              "    <tr style=\"text-align: right;\">\n",
              "      <th></th>\n",
              "      <th>Online</th>\n",
              "      <th>CC</th>\n",
              "      <th>Loan</th>\n",
              "    </tr>\n",
              "  </thead>\n",
              "  <tbody>\n",
              "    <tr>\n",
              "      <th>0</th>\n",
              "      <td>0</td>\n",
              "      <td>0</td>\n",
              "      <td>0</td>\n",
              "    </tr>\n",
              "    <tr>\n",
              "      <th>1</th>\n",
              "      <td>0</td>\n",
              "      <td>0</td>\n",
              "      <td>0</td>\n",
              "    </tr>\n",
              "    <tr>\n",
              "      <th>2</th>\n",
              "      <td>0</td>\n",
              "      <td>0</td>\n",
              "      <td>0</td>\n",
              "    </tr>\n",
              "    <tr>\n",
              "      <th>3</th>\n",
              "      <td>0</td>\n",
              "      <td>0</td>\n",
              "      <td>0</td>\n",
              "    </tr>\n",
              "    <tr>\n",
              "      <th>4</th>\n",
              "      <td>0</td>\n",
              "      <td>1</td>\n",
              "      <td>0</td>\n",
              "    </tr>\n",
              "  </tbody>\n",
              "</table>\n",
              "</div>\n",
              "    <div class=\"colab-df-buttons\">\n",
              "\n",
              "  <div class=\"colab-df-container\">\n",
              "    <button class=\"colab-df-convert\" onclick=\"convertToInteractive('df-6640735d-7221-453b-9561-c7da67f6e6e4')\"\n",
              "            title=\"Convert this dataframe to an interactive table.\"\n",
              "            style=\"display:none;\">\n",
              "\n",
              "  <svg xmlns=\"http://www.w3.org/2000/svg\" height=\"24px\" viewBox=\"0 -960 960 960\">\n",
              "    <path d=\"M120-120v-720h720v720H120Zm60-500h600v-160H180v160Zm220 220h160v-160H400v160Zm0 220h160v-160H400v160ZM180-400h160v-160H180v160Zm440 0h160v-160H620v160ZM180-180h160v-160H180v160Zm440 0h160v-160H620v160Z\"/>\n",
              "  </svg>\n",
              "    </button>\n",
              "\n",
              "  <style>\n",
              "    .colab-df-container {\n",
              "      display:flex;\n",
              "      gap: 12px;\n",
              "    }\n",
              "\n",
              "    .colab-df-convert {\n",
              "      background-color: #E8F0FE;\n",
              "      border: none;\n",
              "      border-radius: 50%;\n",
              "      cursor: pointer;\n",
              "      display: none;\n",
              "      fill: #1967D2;\n",
              "      height: 32px;\n",
              "      padding: 0 0 0 0;\n",
              "      width: 32px;\n",
              "    }\n",
              "\n",
              "    .colab-df-convert:hover {\n",
              "      background-color: #E2EBFA;\n",
              "      box-shadow: 0px 1px 2px rgba(60, 64, 67, 0.3), 0px 1px 3px 1px rgba(60, 64, 67, 0.15);\n",
              "      fill: #174EA6;\n",
              "    }\n",
              "\n",
              "    .colab-df-buttons div {\n",
              "      margin-bottom: 4px;\n",
              "    }\n",
              "\n",
              "    [theme=dark] .colab-df-convert {\n",
              "      background-color: #3B4455;\n",
              "      fill: #D2E3FC;\n",
              "    }\n",
              "\n",
              "    [theme=dark] .colab-df-convert:hover {\n",
              "      background-color: #434B5C;\n",
              "      box-shadow: 0px 1px 3px 1px rgba(0, 0, 0, 0.15);\n",
              "      filter: drop-shadow(0px 1px 2px rgba(0, 0, 0, 0.3));\n",
              "      fill: #FFFFFF;\n",
              "    }\n",
              "  </style>\n",
              "\n",
              "    <script>\n",
              "      const buttonEl =\n",
              "        document.querySelector('#df-6640735d-7221-453b-9561-c7da67f6e6e4 button.colab-df-convert');\n",
              "      buttonEl.style.display =\n",
              "        google.colab.kernel.accessAllowed ? 'block' : 'none';\n",
              "\n",
              "      async function convertToInteractive(key) {\n",
              "        const element = document.querySelector('#df-6640735d-7221-453b-9561-c7da67f6e6e4');\n",
              "        const dataTable =\n",
              "          await google.colab.kernel.invokeFunction('convertToInteractive',\n",
              "                                                    [key], {});\n",
              "        if (!dataTable) return;\n",
              "\n",
              "        const docLinkHtml = 'Like what you see? Visit the ' +\n",
              "          '<a target=\"_blank\" href=https://colab.research.google.com/notebooks/data_table.ipynb>data table notebook</a>'\n",
              "          + ' to learn more about interactive tables.';\n",
              "        element.innerHTML = '';\n",
              "        dataTable['output_type'] = 'display_data';\n",
              "        await google.colab.output.renderOutput(dataTable, element);\n",
              "        const docLink = document.createElement('div');\n",
              "        docLink.innerHTML = docLinkHtml;\n",
              "        element.appendChild(docLink);\n",
              "      }\n",
              "    </script>\n",
              "  </div>\n",
              "\n",
              "\n",
              "    <div id=\"df-b1d57f11-1af5-4727-a6c9-0bfa4e65b69a\">\n",
              "      <button class=\"colab-df-quickchart\" onclick=\"quickchart('df-b1d57f11-1af5-4727-a6c9-0bfa4e65b69a')\"\n",
              "                title=\"Suggest charts\"\n",
              "                style=\"display:none;\">\n",
              "\n",
              "<svg xmlns=\"http://www.w3.org/2000/svg\" height=\"24px\"viewBox=\"0 0 24 24\"\n",
              "     width=\"24px\">\n",
              "    <g>\n",
              "        <path d=\"M19 3H5c-1.1 0-2 .9-2 2v14c0 1.1.9 2 2 2h14c1.1 0 2-.9 2-2V5c0-1.1-.9-2-2-2zM9 17H7v-7h2v7zm4 0h-2V7h2v10zm4 0h-2v-4h2v4z\"/>\n",
              "    </g>\n",
              "</svg>\n",
              "      </button>\n",
              "\n",
              "<style>\n",
              "  .colab-df-quickchart {\n",
              "      --bg-color: #E8F0FE;\n",
              "      --fill-color: #1967D2;\n",
              "      --hover-bg-color: #E2EBFA;\n",
              "      --hover-fill-color: #174EA6;\n",
              "      --disabled-fill-color: #AAA;\n",
              "      --disabled-bg-color: #DDD;\n",
              "  }\n",
              "\n",
              "  [theme=dark] .colab-df-quickchart {\n",
              "      --bg-color: #3B4455;\n",
              "      --fill-color: #D2E3FC;\n",
              "      --hover-bg-color: #434B5C;\n",
              "      --hover-fill-color: #FFFFFF;\n",
              "      --disabled-bg-color: #3B4455;\n",
              "      --disabled-fill-color: #666;\n",
              "  }\n",
              "\n",
              "  .colab-df-quickchart {\n",
              "    background-color: var(--bg-color);\n",
              "    border: none;\n",
              "    border-radius: 50%;\n",
              "    cursor: pointer;\n",
              "    display: none;\n",
              "    fill: var(--fill-color);\n",
              "    height: 32px;\n",
              "    padding: 0;\n",
              "    width: 32px;\n",
              "  }\n",
              "\n",
              "  .colab-df-quickchart:hover {\n",
              "    background-color: var(--hover-bg-color);\n",
              "    box-shadow: 0 1px 2px rgba(60, 64, 67, 0.3), 0 1px 3px 1px rgba(60, 64, 67, 0.15);\n",
              "    fill: var(--button-hover-fill-color);\n",
              "  }\n",
              "\n",
              "  .colab-df-quickchart-complete:disabled,\n",
              "  .colab-df-quickchart-complete:disabled:hover {\n",
              "    background-color: var(--disabled-bg-color);\n",
              "    fill: var(--disabled-fill-color);\n",
              "    box-shadow: none;\n",
              "  }\n",
              "\n",
              "  .colab-df-spinner {\n",
              "    border: 2px solid var(--fill-color);\n",
              "    border-color: transparent;\n",
              "    border-bottom-color: var(--fill-color);\n",
              "    animation:\n",
              "      spin 1s steps(1) infinite;\n",
              "  }\n",
              "\n",
              "  @keyframes spin {\n",
              "    0% {\n",
              "      border-color: transparent;\n",
              "      border-bottom-color: var(--fill-color);\n",
              "      border-left-color: var(--fill-color);\n",
              "    }\n",
              "    20% {\n",
              "      border-color: transparent;\n",
              "      border-left-color: var(--fill-color);\n",
              "      border-top-color: var(--fill-color);\n",
              "    }\n",
              "    30% {\n",
              "      border-color: transparent;\n",
              "      border-left-color: var(--fill-color);\n",
              "      border-top-color: var(--fill-color);\n",
              "      border-right-color: var(--fill-color);\n",
              "    }\n",
              "    40% {\n",
              "      border-color: transparent;\n",
              "      border-right-color: var(--fill-color);\n",
              "      border-top-color: var(--fill-color);\n",
              "    }\n",
              "    60% {\n",
              "      border-color: transparent;\n",
              "      border-right-color: var(--fill-color);\n",
              "    }\n",
              "    80% {\n",
              "      border-color: transparent;\n",
              "      border-right-color: var(--fill-color);\n",
              "      border-bottom-color: var(--fill-color);\n",
              "    }\n",
              "    90% {\n",
              "      border-color: transparent;\n",
              "      border-bottom-color: var(--fill-color);\n",
              "    }\n",
              "  }\n",
              "</style>\n",
              "\n",
              "      <script>\n",
              "        async function quickchart(key) {\n",
              "          const quickchartButtonEl =\n",
              "            document.querySelector('#' + key + ' button');\n",
              "          quickchartButtonEl.disabled = true;  // To prevent multiple clicks.\n",
              "          quickchartButtonEl.classList.add('colab-df-spinner');\n",
              "          try {\n",
              "            const charts = await google.colab.kernel.invokeFunction(\n",
              "                'suggestCharts', [key], {});\n",
              "          } catch (error) {\n",
              "            console.error('Error during call to suggestCharts:', error);\n",
              "          }\n",
              "          quickchartButtonEl.classList.remove('colab-df-spinner');\n",
              "          quickchartButtonEl.classList.add('colab-df-quickchart-complete');\n",
              "        }\n",
              "        (() => {\n",
              "          let quickchartButtonEl =\n",
              "            document.querySelector('#df-b1d57f11-1af5-4727-a6c9-0bfa4e65b69a button');\n",
              "          quickchartButtonEl.style.display =\n",
              "            google.colab.kernel.accessAllowed ? 'block' : 'none';\n",
              "        })();\n",
              "      </script>\n",
              "    </div>\n",
              "\n",
              "    </div>\n",
              "  </div>\n"
            ],
            "application/vnd.google.colaboratory.intrinsic+json": {
              "type": "dataframe",
              "summary": "{\n  \"name\": \"display(df_filtered\",\n  \"rows\": 5,\n  \"fields\": [\n    {\n      \"column\": \"Online\",\n      \"properties\": {\n        \"dtype\": \"number\",\n        \"std\": 0,\n        \"min\": 0,\n        \"max\": 0,\n        \"num_unique_values\": 1,\n        \"samples\": [\n          0\n        ],\n        \"semantic_type\": \"\",\n        \"description\": \"\"\n      }\n    },\n    {\n      \"column\": \"CC\",\n      \"properties\": {\n        \"dtype\": \"number\",\n        \"std\": 0,\n        \"min\": 0,\n        \"max\": 1,\n        \"num_unique_values\": 2,\n        \"samples\": [\n          1\n        ],\n        \"semantic_type\": \"\",\n        \"description\": \"\"\n      }\n    },\n    {\n      \"column\": \"Loan\",\n      \"properties\": {\n        \"dtype\": \"number\",\n        \"std\": 0,\n        \"min\": 0,\n        \"max\": 0,\n        \"num_unique_values\": 1,\n        \"samples\": [\n          0\n        ],\n        \"semantic_type\": \"\",\n        \"description\": \"\"\n      }\n    }\n  ]\n}"
            }
          },
          "metadata": {}
        }
      ]
    },
    {
      "cell_type": "code",
      "source": [
        "# Define features-target\n",
        "X = df_filtered[['Online', 'CC']]\n",
        "y = df_filtered['Loan']\n",
        "\n",
        "# 60-40 split\n",
        "X_train, X_val, y_train, y_val = train_test_split(X, y, test_size=0.4, random_state=1)\n",
        "\n",
        "# combine training data back for ease of use\n",
        "train_df = pd.concat([X_train, y_train], axis=1)\n",
        "\n",
        "print(f\"Training set shape: {train_df.shape}\")\n",
        "print(f\"Validation set shape: {X_val.shape}\")"
      ],
      "metadata": {
        "colab": {
          "base_uri": "https://localhost:8080/"
        },
        "id": "eclWhqVl5JKa",
        "outputId": "7c7d020f-ad51-4a6b-88dc-60e454ecf29c"
      },
      "execution_count": 52,
      "outputs": [
        {
          "output_type": "stream",
          "name": "stdout",
          "text": [
            "Training set shape: (3000, 3)\n",
            "Validation set shape: (2000, 2)\n"
          ]
        }
      ]
    },
    {
      "cell_type": "markdown",
      "source": [
        "# Part A"
      ],
      "metadata": {
        "id": "WtAcWH_u_H-4"
      }
    },
    {
      "cell_type": "code",
      "source": [
        "train_df['count'] = 1\n",
        "\n",
        "# Melt the dataframe to transform it into a long format\n",
        "melted_df = pd.melt(train_df, id_vars=['CC', 'Loan', 'Online'], value_vars=['count'])\n",
        "\n",
        "# Create the pivot table as required\n",
        "pivot_A = melted_df.pivot_table(index=['CC', 'Loan'], columns='Online', values='value', aggfunc='sum', fill_value=0)\n",
        "print(pivot_A)"
      ],
      "metadata": {
        "colab": {
          "base_uri": "https://localhost:8080/"
        },
        "id": "8PMcAxJJ5u1X",
        "outputId": "42cf3131-bf16-4b56-8d51-5fac5d4eb2da"
      },
      "execution_count": 53,
      "outputs": [
        {
          "output_type": "stream",
          "name": "stdout",
          "text": [
            "Online     0     1\n",
            "CC Loan           \n",
            "0  0     792  1117\n",
            "   1      73   126\n",
            "1  0     327   477\n",
            "   1      39    49\n"
          ]
        }
      ]
    },
    {
      "cell_type": "markdown",
      "source": [
        "# Part B"
      ],
      "metadata": {
        "id": "FeB9k170_NDT"
      }
    },
    {
      "cell_type": "code",
      "source": [
        "# Extract the required counts\n",
        "# Count(Loan=1, CC=1, Online=1)\n",
        "count_accept = pivot_A.loc[(1, 1), 1]\n",
        "# Count(Loan=0, CC=1, Online=1)\n",
        "count_reject = pivot_A.loc[(1, 0), 1]\n",
        "# Total customers with CC=1 and Online=1\n",
        "total_conditional = count_accept + count_reject\n",
        "# Calculate the probability P(Loan=1 | CC=1, Online=1)\n",
        "prob_B = count_accept / total_conditional\n",
        "\n",
        "print(f\"P(Loan=1 | CC=1, Online=1) = {count_accept} / {total_conditional} = {prob_B:.4f}\")\n",
        "print(\"\\n\")"
      ],
      "metadata": {
        "colab": {
          "base_uri": "https://localhost:8080/"
        },
        "id": "llL2Z2dj_O9-",
        "outputId": "8df93229-1c62-4305-9971-49b89119ddf7"
      },
      "execution_count": 54,
      "outputs": [
        {
          "output_type": "stream",
          "name": "stdout",
          "text": [
            "P(Loan=1 | CC=1, Online=1) = 49 / 526 = 0.0932\n",
            "\n",
            "\n"
          ]
        }
      ]
    },
    {
      "cell_type": "markdown",
      "source": [
        "# Part C"
      ],
      "metadata": {
        "id": "j4w72Ffg_u-y"
      }
    },
    {
      "cell_type": "code",
      "source": [
        "# Create a pivot table for Loan as a function of Online\n",
        "pivot_C_online = melted_df.pivot_table(index='Loan', columns='Online', values='value', aggfunc='sum', fill_value=0)\n",
        "print(pivot_C_online)\n",
        "print(\"-\" * 20)\n",
        "print(\"\\n\")\n",
        "\n",
        "# Create a pivot table for Loan as a function of CC\n",
        "pivot_C_cc = melted_df.pivot_table(index='Loan', columns='CC', values='value', aggfunc='sum', fill_value=0)\n",
        "print(pivot_C_cc)\n",
        "print(\"\\n\")"
      ],
      "metadata": {
        "colab": {
          "base_uri": "https://localhost:8080/"
        },
        "id": "V7onG6uO_w8D",
        "outputId": "b32ca93f-f687-4603-fefc-90c9511e087c"
      },
      "execution_count": 55,
      "outputs": [
        {
          "output_type": "stream",
          "name": "stdout",
          "text": [
            "Online     0     1\n",
            "Loan              \n",
            "0       1119  1594\n",
            "1        112   175\n",
            "--------------------\n",
            "\n",
            "\n",
            "CC       0    1\n",
            "Loan           \n",
            "0     1909  804\n",
            "1      199   88\n",
            "\n",
            "\n"
          ]
        }
      ]
    },
    {
      "cell_type": "markdown",
      "source": [
        "# Part D"
      ],
      "metadata": {
        "id": "UIhlDjAWAJJJ"
      }
    },
    {
      "cell_type": "code",
      "source": [
        "total_train = len(train_df)\n",
        "total_loan1 = train_df['Loan'].sum()\n",
        "total_loan0 = total_train - total_loan1\n",
        "\n",
        "# i. P(CC=1 | Loan=1)\n",
        "p_cc1_given_loan1 = pivot_C_cc.loc[1, 1] / total_loan1\n",
        "\n",
        "# ii. P(Online=1 | Loan=1)\n",
        "p_online1_given_loan1 = pivot_C_online.loc[1, 1] / total_loan1\n",
        "\n",
        "# iii. P(Loan=1)\n",
        "p_loan1 = total_loan1 / total_train\n",
        "\n",
        "# iv. P(CC=1 | Loan=0)\n",
        "p_cc1_given_loan0 = pivot_C_cc.loc[0, 1] / total_loan0\n",
        "\n",
        "# v. P(Online=1 | Loan=0)\n",
        "p_online1_given_loan0 = pivot_C_online.loc[0, 1] / total_loan0\n",
        "\n",
        "# vi. P(Loan=0)\n",
        "p_loan0 = total_loan0 / total_train\n",
        "\n",
        "# Print all to 4dp\n",
        "print(f\"i.   P(CC=1 | Loan=1) = {p_cc1_given_loan1:.4f}\")\n",
        "print(f\"ii.  P(Online=1 | Loan=1) = {p_online1_given_loan1:.4f}\")\n",
        "print(f\"iii. P(Loan=1) = {p_loan1:.4f}\")\n",
        "print(f\"iv.  P(CC=1 | Loan=0) = {p_cc1_given_loan0:.4f}\")\n",
        "print(f\"v.   P(Online=1 | Loan=0) = {p_online1_given_loan0:.4f}\")\n",
        "print(f\"vi.  P(Loan=0) = {p_loan0:.4f}\")\n",
        "print(\"\\n\")"
      ],
      "metadata": {
        "colab": {
          "base_uri": "https://localhost:8080/"
        },
        "id": "iuQWk4IpATtI",
        "outputId": "8a313c44-e582-4e39-9eae-79abbdd290e8"
      },
      "execution_count": 56,
      "outputs": [
        {
          "output_type": "stream",
          "name": "stdout",
          "text": [
            "i.   P(CC=1 | Loan=1) = 0.3066\n",
            "ii.  P(Online=1 | Loan=1) = 0.6098\n",
            "iii. P(Loan=1) = 0.0957\n",
            "iv.  P(CC=1 | Loan=0) = 0.2964\n",
            "v.   P(Online=1 | Loan=0) = 0.5875\n",
            "vi.  P(Loan=0) = 0.9043\n",
            "\n",
            "\n"
          ]
        }
      ]
    },
    {
      "cell_type": "markdown",
      "source": [
        "# Part E"
      ],
      "metadata": {
        "id": "QHSdJ7zRAZIy"
      }
    },
    {
      "cell_type": "code",
      "source": [
        "# p_cc1_given_loan1 * p_online1_given_loan1 * p_loan1\n",
        "first = p_cc1_given_loan1 * p_online1_given_loan1 * p_loan1\n",
        "\n",
        "# p_cc1_given_loan0 * p_online_given_loan0 * p_loan0\n",
        "second = p_cc1_given_loan0 * p_online1_given_loan0 * p_loan0\n",
        "\n",
        "total_conditional = first + second\n",
        "\n",
        "# first / first + second\n",
        "prob_E = first / (first + second)\n",
        "\n",
        "print(f\"Part E. P(Loan=1 | CC=1, Online=1) =  {prob_E}\")"
      ],
      "metadata": {
        "colab": {
          "base_uri": "https://localhost:8080/"
        },
        "id": "3cxeDbWZAIoh",
        "outputId": "be0e1148-9097-4de5-cd1d-f7b57c402865"
      },
      "execution_count": 57,
      "outputs": [
        {
          "output_type": "stream",
          "name": "stdout",
          "text": [
            "Part E. P(Loan=1 | CC=1, Online=1) =  0.10200430617247218\n"
          ]
        }
      ]
    },
    {
      "cell_type": "markdown",
      "source": [
        "# Part F\n"
      ],
      "metadata": {
        "id": "wmotLfQECmpB"
      }
    },
    {
      "cell_type": "code",
      "source": [
        "print(f\"The probability from the pivot table (Part B) is {prob_B:.4f}.\")\n",
        "print(f\"The error on the Part B probability is {abs(p_loan1 - prob_B) / p_loan1 * 100:.4f}%\")\n",
        "print(\"\\n\")\n",
        "\n",
        "print(f\"The probability from the Naive Bayes calculation (Part E) is {prob_E:.4f}.\")\n",
        "print(f\"The error on the Part E probability is {abs(p_loan1 - prob_E) / p_loan1 * 100:.4f}%\")\n",
        "print(\"\\n\")\n",
        "\n",
        "print(f\"The acutal is {p_loan1:.4f}.\")\n",
        "print(\"\\nThe estimate from the pivot table (Part B) is the more accurate\")\n",
        "print(\"estimate for the training data itself. This is because it is the\")\n",
        "print(\"actual observed proportion in the data. The Naive Bayes result is\")\n",
        "print(\"an estimate based on the assumption of conditional independence\")\n",
        "print(\"between 'CC' and 'Online', which may not be perfectly true in the data.\")"
      ],
      "metadata": {
        "colab": {
          "base_uri": "https://localhost:8080/"
        },
        "id": "B6uDDK7LAKpY",
        "outputId": "2985b0ae-b8ad-4d2b-9877-02a3bcfcc43a"
      },
      "execution_count": 58,
      "outputs": [
        {
          "output_type": "stream",
          "name": "stdout",
          "text": [
            "The probability from the pivot table (Part B) is 0.0932.\n",
            "The error on the Part B probability is 2.6245%\n",
            "\n",
            "\n",
            "The probability from the Naive Bayes calculation (Part E) is 0.1020.\n",
            "The error on the Part E probability is 6.6247%\n",
            "\n",
            "\n",
            "The acutal is 0.0957.\n",
            "\n",
            "The estimate from the pivot table (Part B) is the more accurate\n",
            "estimate for the training data itself. This is because it is the\n",
            "actual observed proportion in the data. The Naive Bayes result is\n",
            "an estimate based on the assumption of conditional independence\n",
            "between 'CC' and 'Online', which may not be perfectly true in the data.\n"
          ]
        }
      ]
    },
    {
      "cell_type": "markdown",
      "source": [
        "# Part G"
      ],
      "metadata": {
        "id": "-05gDiHvHH-N"
      }
    },
    {
      "cell_type": "code",
      "source": [
        "print(\"Need to calculate the following\")\n",
        "print(\"1. Prior Probabilities: P(Loan=1) and P(Loan=0).\")\n",
        "print(\"2. Conditional Probabilities: P(CC=1|Loan=1), P(Online=1|Loan=1), etc.\")\n",
        "model = CategoricalNB()\n",
        "model.fit(X_train, y_train)\n",
        "\n",
        "# Define the customer case: [Online=1, CC=1]\n",
        "customer_case = [[1, 1]]\n",
        "predicted_probabilities = model.predict_proba(customer_case)\n",
        "prob_G_model = predicted_probabilities[0, 1]\n",
        "print(\"\\n\")\n",
        "print(\"Model training and prediction complete.\")\n",
        "\n",
        "# --- Comparison ---\n",
        "print(f\"The model's predicted probability is: {prob_G_model:.4f}\")\n",
        "print(f\"The manually calculated probability (Part E) was: {prob_E:.4f}\")\n",
        "print(\"The results match up to 2dp\")\n",
        "\n",
        "\n",
        "print(\"Getting a warning below - IGNORE!\\n\\n\\n\\n\\n\")\n"
      ],
      "metadata": {
        "colab": {
          "base_uri": "https://localhost:8080/"
        },
        "id": "gYraxcbxHLdl",
        "outputId": "ed76cef2-33e5-42cf-fa6d-addb341b3347"
      },
      "execution_count": 59,
      "outputs": [
        {
          "output_type": "stream",
          "name": "stdout",
          "text": [
            "Need to calculate the following\n",
            "1. Prior Probabilities: P(Loan=1) and P(Loan=0).\n",
            "2. Conditional Probabilities: P(CC=1|Loan=1), P(Online=1|Loan=1), etc.\n",
            "\n",
            "\n",
            "Model training and prediction complete.\n",
            "The model's predicted probability is: 0.1023\n",
            "The manually calculated probability (Part E) was: 0.1020\n",
            "The results match up to 2dp\n",
            "Getting a warning below - IGNORE!\n",
            "\n",
            "\n",
            "\n",
            "\n",
            "\n"
          ]
        },
        {
          "output_type": "stream",
          "name": "stderr",
          "text": [
            "/usr/local/lib/python3.12/dist-packages/sklearn/utils/validation.py:2739: UserWarning: X does not have valid feature names, but CategoricalNB was fitted with feature names\n",
            "  warnings.warn(\n"
          ]
        }
      ]
    }
  ]
}